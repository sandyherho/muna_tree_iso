{
 "cells": [
  {
   "cell_type": "code",
   "execution_count": 1,
   "id": "7c9d8d38",
   "metadata": {},
   "outputs": [],
   "source": [
    "# import libs & settings\n",
    "import pandas as pd\n",
    "import matplotlib.pyplot as plt\n",
    "import pygmt\n",
    "import warnings\n",
    "\n",
    "plt.style.use(\"ggplot\")\n",
    "plt.rcParams['figure.figsize'] = [20, 10]\n",
    "warnings.filterwarnings(\"ignore\")"
   ]
  },
  {
   "cell_type": "code",
   "execution_count": 13,
   "id": "ee87b403",
   "metadata": {},
   "outputs": [],
   "source": [
    "# plot map\n",
    "fig = pygmt.Figure()\n",
    "fig.basemap(region=[93, 143, -20, 20], projection=\"M15c\", frame=True)\n",
    "fig.coast(land=\"black\", water=\"skyblue\")\n",
    "fig.plot(x=123, y=-5.3, style=\"c0.4c\", cmap=\"red\", pen=\"black\")\n",
    "fig.savefig(\"../figs/fig1.eps\", dpi=500)"
   ]
  },
  {
   "cell_type": "code",
   "execution_count": null,
   "id": "c5b90408",
   "metadata": {},
   "outputs": [],
   "source": []
  }
 ],
 "metadata": {
  "kernelspec": {
   "display_name": "Python 3 (ipykernel)",
   "language": "python",
   "name": "python3"
  },
  "language_info": {
   "codemirror_mode": {
    "name": "ipython",
    "version": 3
   },
   "file_extension": ".py",
   "mimetype": "text/x-python",
   "name": "python",
   "nbconvert_exporter": "python",
   "pygments_lexer": "ipython3",
   "version": "3.10.2"
  }
 },
 "nbformat": 4,
 "nbformat_minor": 5
}
